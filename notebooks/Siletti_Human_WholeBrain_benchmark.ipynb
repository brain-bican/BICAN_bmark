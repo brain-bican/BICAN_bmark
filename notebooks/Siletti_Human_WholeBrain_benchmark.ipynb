{
 "cells": [
  {
   "cell_type": "code",
   "execution_count": null,
   "metadata": {},
   "outputs": [],
   "source": [
    "import os\n",
    "import anndata as ad\n",
    "from bmark.utils.dataset import get_kfold_ind"
   ]
  },
  {
   "cell_type": "markdown",
   "metadata": {},
   "source": [
    "### Load taxonomy/dataset"
   ]
  },
  {
   "cell_type": "code",
   "execution_count": null,
   "metadata": {},
   "outputs": [],
   "source": [
    "os.chdir(\"/allen/programs/celltypes/workgroups/hct/cellTaxonomy/adult-human-brain_v1/additional_files/processed/CSR\")\n",
    "taxonomy = ad.read_h5ad(\"human_whole_brain_subcluster_centroid_subsampled.h5ad\", backed=\"r\")"
   ]
  },
  {
   "cell_type": "markdown",
   "metadata": {},
   "source": [
    "#### Ensure subclusters have n >= 50 cells to support 10 fold cross-valiationd"
   ]
  },
  {
   "cell_type": "code",
   "execution_count": null,
   "metadata": {},
   "outputs": [],
   "source": [
    "## taxonomy must have n > 50 cells per subcluster\n",
    "counts = taxonomy.obs[\"subcluster_id\"].value_counts() > 50\n",
    "taxonomy = taxonomy[taxonomy.obs[\"subcluster_id\"].isin(counts[counts].index.tolist())]"
   ]
  },
  {
   "cell_type": "markdown",
   "metadata": {},
   "source": [
    "### Configure k-fold validation\n",
    "Derive 10-fold train, test splits and store in the .uns of the anndata object."
   ]
  },
  {
   "cell_type": "code",
   "execution_count": null,
   "metadata": {},
   "outputs": [],
   "source": [
    "## Define where to store benchmarking information in the anndata object\n",
    "taxonomy.uns[\"benchmark\"] = {\"k_fold\": {}}\n",
    "\n",
    "## Precompute all 10 train and validation splits of the data\n",
    "for fold in range(10):\n",
    "    train_ind, validation_ind = get_kfold_ind(obs=taxonomy.obs, stratify_by='subcluster_id', fold=fold, n_folds=10)\n",
    "    taxonomy.uns[\"benchmark\"][\"k_fold\"][\"fold_\" + str(fold+1)] = {\"train_ind\": train_ind, \"val_ind\": validation_ind}"
   ]
  },
  {
   "cell_type": "markdown",
   "metadata": {},
   "source": [
    "### Save the benchmark"
   ]
  },
  {
   "cell_type": "code",
   "execution_count": null,
   "metadata": {},
   "outputs": [],
   "source": [
    "taxonomy.write_h5ad(\"Siletti_Human_WholeBrain_benchmark.h5ad\")"
   ]
  }
 ],
 "metadata": {
  "language_info": {
   "name": "python"
  }
 },
 "nbformat": 4,
 "nbformat_minor": 2
}
