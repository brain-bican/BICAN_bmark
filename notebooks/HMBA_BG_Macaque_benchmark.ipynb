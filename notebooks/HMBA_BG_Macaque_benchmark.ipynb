{
 "cells": [
  {
   "cell_type": "code",
   "execution_count": null,
   "metadata": {},
   "outputs": [],
   "source": [
    "import os\n",
    "import anndata as ad\n",
    "from bmark.utils.dataset import get_kfold_ind"
   ]
  },
  {
   "cell_type": "markdown",
   "metadata": {},
   "source": [
    "### Load taxonomy/dataset"
   ]
  },
  {
   "cell_type": "code",
   "execution_count": null,
   "metadata": {},
   "outputs": [],
   "source": [
    "os.chdir(\"/allen/programs/celltypes/workgroups/rnaseqanalysis/HMBA/Aim1_Regional_Taxonomies/BasalGanglia/Macaque/\")\n",
    "taxonomy = ad.read_h5ad(\"HMBA_Macaque_BG_082024_AIT.h5ad\", backed=\"r\")"
   ]
  },
  {
   "cell_type": "markdown",
   "metadata": {},
   "source": [
    "### Configure k-fold validation\n",
    "Derive 10-fold train, test splits and store in the .uns of the anndata object."
   ]
  },
  {
   "cell_type": "code",
   "execution_count": null,
   "metadata": {},
   "outputs": [],
   "source": [
    "## Define where to store benchmarking information in the anndata object\n",
    "taxonomy.uns[\"benchmark\"] = {\"k_fold\": {}}\n",
    "\n",
    "## Precompute all 10 train and validation splits of the data\n",
    "for fold in range(10):\n",
    "    train_ind, validation_ind = get_kfold_ind(obs=taxonomy.obs, stratify_by='Cluster_label', fold=fold, n_folds=10)\n",
    "    taxonomy.uns[\"benchmark\"][\"k_fold\"][\"fold_\" + str(fold+1)] = {\"train_ind\": train_ind, \"val_ind\": validation_ind}"
   ]
  },
  {
   "cell_type": "markdown",
   "metadata": {},
   "source": [
    "### Save the benchmark"
   ]
  },
  {
   "cell_type": "code",
   "execution_count": null,
   "metadata": {},
   "outputs": [],
   "source": [
    "taxonomy.write_h5ad(\"HMBA_Macaque_BG_082024_AIT_benchmark.h5ad\")"
   ]
  }
 ],
 "metadata": {
  "language_info": {
   "name": "python"
  }
 },
 "nbformat": 4,
 "nbformat_minor": 2
}
